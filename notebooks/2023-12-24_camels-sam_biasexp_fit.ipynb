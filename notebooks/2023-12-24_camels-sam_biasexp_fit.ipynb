{
 "cells": [
  {
   "cell_type": "code",
   "execution_count": 2,
   "id": "09135bc3",
   "metadata": {},
   "outputs": [
    {
     "name": "stderr",
     "output_type": "stream",
     "text": [
      "2023-12-26 00:25:11.609398: I external/local_tsl/tsl/cuda/cudart_stub.cc:31] Could not find cuda drivers on your machine, GPU will not be used.\n",
      "2023-12-26 00:25:13.736765: E external/local_xla/xla/stream_executor/cuda/cuda_dnn.cc:9261] Unable to register cuDNN factory: Attempting to register factory for plugin cuDNN when one has already been registered\n",
      "2023-12-26 00:25:13.736919: E external/local_xla/xla/stream_executor/cuda/cuda_fft.cc:607] Unable to register cuFFT factory: Attempting to register factory for plugin cuFFT when one has already been registered\n",
      "2023-12-26 00:25:14.040903: E external/local_xla/xla/stream_executor/cuda/cuda_blas.cc:1515] Unable to register cuBLAS factory: Attempting to register factory for plugin cuBLAS when one has already been registered\n",
      "2023-12-26 00:25:14.689760: I external/local_tsl/tsl/cuda/cudart_stub.cc:31] Could not find cuda drivers on your machine, GPU will not be used.\n",
      "2023-12-26 00:25:14.697081: I tensorflow/core/platform/cpu_feature_guard.cc:182] This TensorFlow binary is optimized to use available CPU instructions in performance-critical operations.\n",
      "To enable the following instructions: AVX2 AVX512F FMA, in other operations, rebuild TensorFlow with the appropriate compiler flags.\n",
      "2023-12-26 00:25:34.897286: W tensorflow/compiler/tf2tensorrt/utils/py_utils.cc:38] TF-TRT Warning: Could not find TensorRT\n",
      "2023-12-26 00:25:59.523171: W tensorflow/core/common_runtime/gpu/gpu_device.cc:2256] Cannot dlopen some GPU libraries. Please make sure the missing libraries mentioned above are installed properly if you would like to use GPU. Follow the guide at https://www.tensorflow.org/install/gpu for how to download and setup the required libraries for your platform.\n",
      "Skipping registering GPU devices...\n"
     ]
    }
   ],
   "source": [
    "import h5py\n",
    "import numpy as np\n",
    "import os\n",
    "import pandas as pd\n",
    "import subprocess\n",
    "import time\n",
    "\n",
    "from os import listdir\n",
    "from os.path import isfile, join\n",
    "\n",
    "import bacco\n",
    "import baccoemu\n",
    "\n",
    "import matplotlib\n",
    "from matplotlib import pyplot as plt"
   ]
  },
  {
   "cell_type": "code",
   "execution_count": 3,
   "id": "ad0a7349",
   "metadata": {},
   "outputs": [],
   "source": [
    "matplotlib.rcParams['ytick.labelsize'] = 16\n",
    "matplotlib.rcParams['xtick.labelsize'] = 16\n",
    "matplotlib.rcParams['axes.labelsize'] = 18\n",
    "matplotlib.rcParams['legend.fontsize'] = 14\n",
    "matplotlib.rcParams['axes.titlesize'] = 20\n",
    "\n",
    "#matplotlib.rc('text', usetex=True)"
   ]
  },
  {
   "cell_type": "markdown",
   "id": "cfe3118c",
   "metadata": {},
   "source": [
    "## Bacco setup"
   ]
  },
  {
   "cell_type": "code",
   "execution_count": 4,
   "id": "70b68a9b",
   "metadata": {},
   "outputs": [
    {
     "name": "stderr",
     "output_type": "stream",
     "text": [
      "2023-12-26 00:25:59,686 bacco.cosmo :    initialization took 0.000 secs\n"
     ]
    }
   ],
   "source": [
    "##### DEFINE QUIJOTE COSMOLOGY ############\n",
    "# The cosmology is not really needed but\n",
    "# bacco P(k) corrects some modes according\n",
    "# to their cosmology, so better have it\n",
    "# just in case\n",
    "\n",
    "a_Quijote = 1\n",
    "Ob = 0.049\n",
    "Om = 0.3175\n",
    "hubble = 0.6711\n",
    "ns = 0.9624\n",
    "sigma8 = 0.834\n",
    "cosmopars = dict(\n",
    "        omega_cdm=Om-Ob,\n",
    "        omega_baryon=Ob, \n",
    "        hubble=hubble, \n",
    "        ns=ns, \n",
    "        sigma8=sigma8,\n",
    "        #tau=0.0561,\n",
    "        A_s=None,\n",
    "        neutrino_mass=0.,\n",
    "        w0=-1,\n",
    "        wa=0,\n",
    "        tag=\"cosmo_BOSS\"\n",
    "    )\n",
    "    \n",
    "    \n",
    "cosmo_Quijote = bacco.Cosmology(**cosmopars)\n",
    "cosmo_Quijote.set_expfactor(a_Quijote)"
   ]
  },
  {
   "cell_type": "code",
   "execution_count": 5,
   "id": "4d6e7658",
   "metadata": {},
   "outputs": [
    {
     "name": "stdout",
     "output_type": "stream",
     "text": [
      "149.0090895544628\n"
     ]
    }
   ],
   "source": [
    "ngrid = 256 #1024 #512 #256 #128 #256 #1400\n",
    "#nmean=0.01 not used\n",
    "BoxSize=100/hubble\n",
    "print(BoxSize)\n",
    "\n",
    "bacco.configuration.update({'pknbody' : {'ngrid'  :  ngrid}})\n",
    "bacco.configuration.update({'pknbody' : {'log_binning' : True}})\n",
    "bacco.configuration.update({'pknbody' : {'log_binning_kmax' : 0.99506136}})#\n",
    "bacco.configuration.update({'pknbody' : {'log_binning_nbins' : 100}})\n",
    "bacco.configuration.update({'pknbody' : {'min_k' : 0.01721049}})\n",
    "bacco.configuration.update({'pk' : {'maxk' : 0.99506136}}) \n",
    "bacco.configuration.update({'pknbody' : {'interlacing' : True}})\n",
    "\n",
    "bacco.configuration.update({'pknbody' : {'depmethod' : 'cic'}})\n",
    "\n",
    "bacco.configuration.update({'nonlinear' : {'concentration' : 'ludlow16'}})\n",
    "\n",
    "bacco.configuration.update({'number_of_threads' : 12})\n",
    "bacco.configuration.update({'scaling' : {'disp_ngrid' : ngrid}})\n",
    "\n",
    "bacco.configuration.update({'pk':{'boltzmann_solver': 'CLASS'}})"
   ]
  },
  {
   "cell_type": "markdown",
   "id": "2e119e28",
   "metadata": {},
   "source": [
    "## Load SAM data from hdf5 files"
   ]
  },
  {
   "cell_type": "code",
   "execution_count": 6,
   "id": "c3a56268",
   "metadata": {},
   "outputs": [],
   "source": [
    "redshift = 0\n",
    "dir_dat = '/lscratch/kstoreyf/CAMELS-SAM_data'"
   ]
  },
  {
   "cell_type": "code",
   "execution_count": 7,
   "id": "4358143f",
   "metadata": {},
   "outputs": [],
   "source": [
    "#fns_dat = [join(dir_dat, f) for f in listdir(dir_dat) if isfile(join(dir_dat, f))]\n",
    "idx_sam = 0\n",
    "fns_dat = [f'{dir_dat}/LH_{idx_sam}_galprops_z{redshift}.hdf5']"
   ]
  },
  {
   "cell_type": "markdown",
   "id": "cf12aab7",
   "metadata": {},
   "source": [
    "## Plot CAMELS SMFs"
   ]
  },
  {
   "cell_type": "code",
   "execution_count": 8,
   "id": "4944f95c",
   "metadata": {},
   "outputs": [
    {
     "name": "stdout",
     "output_type": "stream",
     "text": [
      "0.302246803431\n",
      "3308554.428527777 1000000\n"
     ]
    }
   ],
   "source": [
    "log_mass_shift = 9\n",
    "h = 0.6711 # from perez et al\n",
    "print(h**3)\n",
    "vol_Mpc = (100/h)**3 # 100 Mpc/h = 100/h Mpc\n",
    "vol_hMpc = 100**3 # units Mpc/h!! to match bgs; diff than plotted in camels paper\n",
    "print(vol_Mpc, vol_hMpc)"
   ]
  },
  {
   "cell_type": "code",
   "execution_count": 9,
   "id": "f1508f4a",
   "metadata": {},
   "outputs": [],
   "source": [
    "edges = np.linspace(8, 12.5, 40)\n",
    "\n",
    "bin_width = edges[1] - edges[0]                \n",
    "bins_avg = edges[0:-1] + bin_width/2.           "
   ]
  },
  {
   "cell_type": "code",
   "execution_count": 16,
   "id": "dd1b92eb",
   "metadata": {},
   "outputs": [
    {
     "name": "stdout",
     "output_type": "stream",
     "text": [
      "<KeysViewHDF5 ['halo_index', 'mhalo', 'mstar', 'rhalo', 'sat_type', 'sfr', 'sfrave1gyr', 'vx', 'vy', 'vz', 'x_position', 'y_position', 'z_position']>\n",
      "13\n"
     ]
    },
    {
     "name": "stderr",
     "output_type": "stream",
     "text": [
      "/tmp/ipykernel_240022/1568752271.py:7: RuntimeWarning: divide by zero encountered in log10\n",
      "  log_mstar = np.log10(mstar_raw) + log_mass_shift\n"
     ]
    }
   ],
   "source": [
    "smf_arr = []\n",
    "for fn_dat in fns_dat[:2]:\n",
    "    with h5py.File(fn_dat, 'r') as f:\n",
    "        mstar_raw = np.array(f['mstar'])\n",
    "        log_mstar = np.log10(mstar_raw) + log_mass_shift\n",
    "        \n",
    "        phi, edges = np.histogram(log_mstar, bins=edges)   \n",
    "        smf = phi / vol_Mpc / bin_width\n",
    "        smf_arr.append(smf)    "
   ]
  },
  {
   "cell_type": "code",
   "execution_count": 21,
   "id": "0c3f13f2",
   "metadata": {},
   "outputs": [
    {
     "data": {
      "text/plain": [
       "Text(0, 0.5, '$\\\\Phi \\\\: [\\\\mathrm{dex}^{-1}\\\\, \\\\mathrm{Mpc}^{-3}]$')"
      ]
     },
     "execution_count": 21,
     "metadata": {},
     "output_type": "execute_result"
    },
    {
     "data": {
      "image/png": "[encoded data removed]",
      "text/plain": [
       "<Figure size 640x480 with 1 Axes>"
      ]
     },
     "metadata": {},
     "output_type": "display_data"
    }
   ],
   "source": [
    "n_plot = 1\n",
    "for i in range(n_plot):\n",
    "    plt.plot(bins_avg, smf_arr[i], lw=0.2, color='navy')\n",
    "\n",
    "smf_mean = np.mean(smf_arr, axis=0)\n",
    "smf_std = np.std(smf_arr, axis=0)\n",
    "plt.plot(bins_avg, smf_mean, color='magenta')\n",
    "plt.fill_between(bins_avg, \n",
    "                 (smf_mean-smf_std), \n",
    "                 (smf_mean+smf_std),\n",
    "                 color='magenta', alpha=0.3, lw=2,\n",
    "                 label='pSMF all')\n",
    "    \n",
    "plt.yscale('log')\n",
    "plt.xlabel(r'$\\log(M_\\star\\,/\\,M_\\odot)$')\n",
    "plt.ylabel(r'$\\Phi \\: [\\mathrm{dex}^{-1}\\, \\mathrm{Mpc}^{-3}]$')"
   ]
  },
  {
   "cell_type": "markdown",
   "id": "e341f479",
   "metadata": {},
   "source": [
    "## Set up bacco P(k) code"
   ]
  },
  {
   "cell_type": "code",
   "execution_count": 22,
   "id": "393cc5d8",
   "metadata": {},
   "outputs": [],
   "source": [
    "args_power = {'ngrid':ngrid,\n",
    "                  'box':BoxSize,\n",
    "                  'cosmology':cosmo_Quijote,\n",
    "                  'interlacing':True,\n",
    "                  'kmin':0.1,\n",
    "                  'kmax':1.0,\n",
    "                  'nbins':30,\n",
    "                  'correct_grid':True,\n",
    "                  'log_binning':False,\n",
    "                  'deposit_method':'cic',\n",
    "                  'compute_correlation':False,\n",
    "                  'zspace':False,\n",
    "                  'normalise_grid': True,\n",
    "                  'compute_power2d':False}"
   ]
  },
  {
   "cell_type": "code",
   "execution_count": 23,
   "id": "6b99bbb7",
   "metadata": {},
   "outputs": [],
   "source": [
    "import logging\n",
    "logger = logging.getLogger(\"bacco.power\")\n",
    "# only log really bad events\n",
    "logger.setLevel(logging.ERROR)"
   ]
  },
  {
   "cell_type": "code",
   "execution_count": 24,
   "id": "d9bf98ee",
   "metadata": {},
   "outputs": [
    {
     "name": "stderr",
     "output_type": "stream",
     "text": [
      "2023-12-26 01:20:44,450 bacco.statistics : Computing the power spectrum with ngrid=256 and interlacing=True\n",
      "2023-12-26 01:20:45,084 bacco.cosmo :    computed CAMB power spectrum at z=0.00 in 0.235 secs\n",
      "2023-12-26 01:20:45,090 bacco.cosmo :    created Pk(z=0) tab from k 7.450454722857103e-05 to 100000.0 h/Mpc\n",
      "2023-12-26 01:20:45,165 bacco.cosmo :    computed halofit at z=0.00 for 'cosmo_BOSS' in 0.002 secs\n",
      "2023-12-26 01:20:45,166 bacco.statistics :  setting the grid 256 True\n",
      "2023-12-26 01:20:45,167 bacco.statistics : Computing cic mesh with ngrid=256 and interlacing=True\n",
      "2023-12-26 01:20:45,169 bacco.statistics : starting deposit 1\n",
      "2023-12-26 01:20:45,275 bacco.statistics :  mesh done in 0.108 s\n",
      "2023-12-26 01:20:45,277 bacco.statistics :  Starting the power spectrum calculation\n",
      "2023-12-26 01:20:45,513 bacco.statistics :  done compute.power\n",
      "2023-12-26 01:20:45,515 bacco.statistics :  power done in 1.06 s\n"
     ]
    }
   ],
   "source": [
    "pks = []\n",
    "for fn_dat in fns_dat[:10]:\n",
    "    with h5py.File(fn_dat, 'r') as f:\n",
    "        x_arr, y_arr, z_arr = f['x_position'], f['y_position'], f['z_position']\n",
    "        pos_arr = np.array([x_arr, y_arr, z_arr]).T\n",
    "        pk = bacco.statistics.compute_powerspectrum(pos=pos_arr, **args_power)\n",
    "        pks.append(pk)"
   ]
  },
  {
   "cell_type": "code",
   "execution_count": 25,
   "id": "39103df5",
   "metadata": {},
   "outputs": [
    {
     "data": {
      "text/plain": [
       "Text(0, 0.5, '$P(k)$')"
      ]
     },
     "execution_count": 25,
     "metadata": {},
     "output_type": "execute_result"
    },
    {
     "data": {
      "image/png": "[encoded data removed]",
      "text/plain": [
       "<Figure size 640x480 with 1 Axes>"
      ]
     },
     "metadata": {},
     "output_type": "display_data"
    }
   ],
   "source": [
    "for i, fn_dat in enumerate(fns_dat[:10]):\n",
    "    plt.plot(pks[i]['k'], pks[i]['pk'])\n",
    "    \n",
    "plt.xscale('log')\n",
    "plt.yscale('log')\n",
    "plt.xlabel(r'$k$')\n",
    "plt.ylabel(r'$P(k)$')"
   ]
  },
  {
   "cell_type": "markdown",
   "id": "6d6e1118",
   "metadata": {},
   "source": [
    "## Load bacco emu"
   ]
  },
  {
   "cell_type": "code",
   "execution_count": 74,
   "id": "ea84bba3",
   "metadata": {
    "collapsed": true
   },
   "outputs": [
    {
     "name": "stderr",
     "output_type": "stream",
     "text": [
      "\r",
      "  0% (0 of 12738560) |                   | Elapsed Time: 0:00:00 ETA:  --:--:--"
     ]
    },
    {
     "name": "stdout",
     "output_type": "stream",
     "text": [
      "Loading l-bias lpt emulator...\n",
      "Downloading emulator data (34 Mb)...\n"
     ]
    },
    {
     "name": "stderr",
     "output_type": "stream",
     "text": [
      "100% (12738560 of 12738560) |############| Elapsed Time: 0:00:00 Time:  0:00:00\n",
      "/dipc/kstoreyf/.conda/envs/baccoenv/lib/python3.11/site-packages/sklearn/base.py:348: InconsistentVersionWarning: Trying to unpickle estimator PCA from version 0.24.2 when using version 1.3.2. This might lead to breaking code or invalid results. Use at your own risk. For more info please refer to:\n",
      "https://scikit-learn.org/stable/model_persistence.html#security-maintainability-limitations\n",
      "  warnings.warn(\n",
      "/dipc/kstoreyf/.conda/envs/baccoenv/lib/python3.11/site-packages/sklearn/base.py:348: InconsistentVersionWarning: Trying to unpickle estimator StandardScaler from version 0.24.2 when using version 1.3.2. This might lead to breaking code or invalid results. Use at your own risk. For more info please refer to:\n",
      "https://scikit-learn.org/stable/model_persistence.html#security-maintainability-limitations\n",
      "  warnings.warn(\n",
      "/dipc/kstoreyf/.conda/envs/baccoenv/lib/python3.11/site-packages/sklearn/base.py:348: InconsistentVersionWarning: Trying to unpickle estimator PCA from version 0.24.2 when using version 1.3.2. This might lead to breaking code or invalid results. Use at your own risk. For more info please refer to:\n",
      "https://scikit-learn.org/stable/model_persistence.html#security-maintainability-limitations\n",
      "  warnings.warn(\n",
      "/dipc/kstoreyf/.conda/envs/baccoenv/lib/python3.11/site-packages/sklearn/base.py:348: InconsistentVersionWarning: Trying to unpickle estimator StandardScaler from version 0.24.2 when using version 1.3.2. This might lead to breaking code or invalid results. Use at your own risk. For more info please refer to:\n",
      "https://scikit-learn.org/stable/model_persistence.html#security-maintainability-limitations\n",
      "  warnings.warn(\n",
      "/dipc/kstoreyf/.conda/envs/baccoenv/lib/python3.11/site-packages/sklearn/base.py:348: InconsistentVersionWarning: Trying to unpickle estimator PCA from version 0.24.2 when using version 1.3.2. This might lead to breaking code or invalid results. Use at your own risk. For more info please refer to:\n",
      "https://scikit-learn.org/stable/model_persistence.html#security-maintainability-limitations\n",
      "  warnings.warn(\n",
      "/dipc/kstoreyf/.conda/envs/baccoenv/lib/python3.11/site-packages/sklearn/base.py:348: InconsistentVersionWarning: Trying to unpickle estimator StandardScaler from version 0.24.2 when using version 1.3.2. This might lead to breaking code or invalid results. Use at your own risk. For more info please refer to:\n",
      "https://scikit-learn.org/stable/model_persistence.html#security-maintainability-limitations\n",
      "  warnings.warn(\n",
      "/dipc/kstoreyf/.conda/envs/baccoenv/lib/python3.11/site-packages/sklearn/base.py:348: InconsistentVersionWarning: Trying to unpickle estimator PCA from version 0.24.2 when using version 1.3.2. This might lead to breaking code or invalid results. Use at your own risk. For more info please refer to:\n",
      "https://scikit-learn.org/stable/model_persistence.html#security-maintainability-limitations\n",
      "  warnings.warn(\n",
      "/dipc/kstoreyf/.conda/envs/baccoenv/lib/python3.11/site-packages/sklearn/base.py:348: InconsistentVersionWarning: Trying to unpickle estimator StandardScaler from version 0.24.2 when using version 1.3.2. This might lead to breaking code or invalid results. Use at your own risk. For more info please refer to:\n",
      "https://scikit-learn.org/stable/model_persistence.html#security-maintainability-limitations\n",
      "  warnings.warn(\n",
      "/dipc/kstoreyf/.conda/envs/baccoenv/lib/python3.11/site-packages/sklearn/base.py:348: InconsistentVersionWarning: Trying to unpickle estimator PCA from version 0.24.2 when using version 1.3.2. This might lead to breaking code or invalid results. Use at your own risk. For more info please refer to:\n",
      "https://scikit-learn.org/stable/model_persistence.html#security-maintainability-limitations\n",
      "  warnings.warn(\n",
      "/dipc/kstoreyf/.conda/envs/baccoenv/lib/python3.11/site-packages/sklearn/base.py:348: InconsistentVersionWarning: Trying to unpickle estimator StandardScaler from version 0.24.2 when using version 1.3.2. This might lead to breaking code or invalid results. Use at your own risk. For more info please refer to:\n",
      "https://scikit-learn.org/stable/model_persistence.html#security-maintainability-limitations\n",
      "  warnings.warn(\n",
      "/dipc/kstoreyf/.conda/envs/baccoenv/lib/python3.11/site-packages/sklearn/base.py:348: InconsistentVersionWarning: Trying to unpickle estimator PCA from version 0.24.2 when using version 1.3.2. This might lead to breaking code or invalid results. Use at your own risk. For more info please refer to:\n",
      "https://scikit-learn.org/stable/model_persistence.html#security-maintainability-limitations\n",
      "  warnings.warn(\n",
      "/dipc/kstoreyf/.conda/envs/baccoenv/lib/python3.11/site-packages/sklearn/base.py:348: InconsistentVersionWarning: Trying to unpickle estimator StandardScaler from version 0.24.2 when using version 1.3.2. This might lead to breaking code or invalid results. Use at your own risk. For more info please refer to:\n",
      "https://scikit-learn.org/stable/model_persistence.html#security-maintainability-limitations\n",
      "  warnings.warn(\n",
      "/dipc/kstoreyf/.conda/envs/baccoenv/lib/python3.11/site-packages/sklearn/base.py:348: InconsistentVersionWarning: Trying to unpickle estimator PCA from version 0.24.2 when using version 1.3.2. This might lead to breaking code or invalid results. Use at your own risk. For more info please refer to:\n",
      "https://scikit-learn.org/stable/model_persistence.html#security-maintainability-limitations\n",
      "  warnings.warn(\n",
      "/dipc/kstoreyf/.conda/envs/baccoenv/lib/python3.11/site-packages/sklearn/base.py:348: InconsistentVersionWarning: Trying to unpickle estimator StandardScaler from version 0.24.2 when using version 1.3.2. This might lead to breaking code or invalid results. Use at your own risk. For more info please refer to:\n",
      "https://scikit-learn.org/stable/model_persistence.html#security-maintainability-limitations\n",
      "  warnings.warn(\n",
      "/dipc/kstoreyf/.conda/envs/baccoenv/lib/python3.11/site-packages/sklearn/base.py:348: InconsistentVersionWarning: Trying to unpickle estimator PCA from version 0.24.2 when using version 1.3.2. This might lead to breaking code or invalid results. Use at your own risk. For more info please refer to:\n",
      "https://scikit-learn.org/stable/model_persistence.html#security-maintainability-limitations\n",
      "  warnings.warn(\n",
      "/dipc/kstoreyf/.conda/envs/baccoenv/lib/python3.11/site-packages/sklearn/base.py:348: InconsistentVersionWarning: Trying to unpickle estimator StandardScaler from version 0.24.2 when using version 1.3.2. This might lead to breaking code or invalid results. Use at your own risk. For more info please refer to:\n",
      "https://scikit-learn.org/stable/model_persistence.html#security-maintainability-limitations\n",
      "  warnings.warn(\n",
      "/dipc/kstoreyf/.conda/envs/baccoenv/lib/python3.11/site-packages/sklearn/base.py:348: InconsistentVersionWarning: Trying to unpickle estimator PCA from version 0.24.2 when using version 1.3.2. This might lead to breaking code or invalid results. Use at your own risk. For more info please refer to:\n",
      "https://scikit-learn.org/stable/model_persistence.html#security-maintainability-limitations\n",
      "  warnings.warn(\n",
      "/dipc/kstoreyf/.conda/envs/baccoenv/lib/python3.11/site-packages/sklearn/base.py:348: InconsistentVersionWarning: Trying to unpickle estimator StandardScaler from version 0.24.2 when using version 1.3.2. This might lead to breaking code or invalid results. Use at your own risk. For more info please refer to:\n",
      "https://scikit-learn.org/stable/model_persistence.html#security-maintainability-limitations\n",
      "  warnings.warn(\n",
      "/dipc/kstoreyf/.conda/envs/baccoenv/lib/python3.11/site-packages/sklearn/base.py:348: InconsistentVersionWarning: Trying to unpickle estimator PCA from version 0.24.2 when using version 1.3.2. This might lead to breaking code or invalid results. Use at your own risk. For more info please refer to:\n",
      "https://scikit-learn.org/stable/model_persistence.html#security-maintainability-limitations\n",
      "  warnings.warn(\n",
      "/dipc/kstoreyf/.conda/envs/baccoenv/lib/python3.11/site-packages/sklearn/base.py:348: InconsistentVersionWarning: Trying to unpickle estimator StandardScaler from version 0.24.2 when using version 1.3.2. This might lead to breaking code or invalid results. Use at your own risk. For more info please refer to:\n",
      "https://scikit-learn.org/stable/model_persistence.html#security-maintainability-limitations\n",
      "  warnings.warn(\n"
     ]
    },
    {
     "name": "stderr",
     "output_type": "stream",
     "text": [
      "/dipc/kstoreyf/.conda/envs/baccoenv/lib/python3.11/site-packages/sklearn/base.py:348: InconsistentVersionWarning: Trying to unpickle estimator PCA from version 0.24.2 when using version 1.3.2. This might lead to breaking code or invalid results. Use at your own risk. For more info please refer to:\n",
      "https://scikit-learn.org/stable/model_persistence.html#security-maintainability-limitations\n",
      "  warnings.warn(\n",
      "/dipc/kstoreyf/.conda/envs/baccoenv/lib/python3.11/site-packages/sklearn/base.py:348: InconsistentVersionWarning: Trying to unpickle estimator StandardScaler from version 0.24.2 when using version 1.3.2. This might lead to breaking code or invalid results. Use at your own risk. For more info please refer to:\n",
      "https://scikit-learn.org/stable/model_persistence.html#security-maintainability-limitations\n",
      "  warnings.warn(\n",
      "/dipc/kstoreyf/.conda/envs/baccoenv/lib/python3.11/site-packages/sklearn/base.py:348: InconsistentVersionWarning: Trying to unpickle estimator PCA from version 0.24.2 when using version 1.3.2. This might lead to breaking code or invalid results. Use at your own risk. For more info please refer to:\n",
      "https://scikit-learn.org/stable/model_persistence.html#security-maintainability-limitations\n",
      "  warnings.warn(\n",
      "/dipc/kstoreyf/.conda/envs/baccoenv/lib/python3.11/site-packages/sklearn/base.py:348: InconsistentVersionWarning: Trying to unpickle estimator StandardScaler from version 0.24.2 when using version 1.3.2. This might lead to breaking code or invalid results. Use at your own risk. For more info please refer to:\n",
      "https://scikit-learn.org/stable/model_persistence.html#security-maintainability-limitations\n",
      "  warnings.warn(\n",
      "/dipc/kstoreyf/.conda/envs/baccoenv/lib/python3.11/site-packages/sklearn/base.py:348: InconsistentVersionWarning: Trying to unpickle estimator PCA from version 0.24.2 when using version 1.3.2. This might lead to breaking code or invalid results. Use at your own risk. For more info please refer to:\n",
      "https://scikit-learn.org/stable/model_persistence.html#security-maintainability-limitations\n",
      "  warnings.warn(\n",
      "/dipc/kstoreyf/.conda/envs/baccoenv/lib/python3.11/site-packages/sklearn/base.py:348: InconsistentVersionWarning: Trying to unpickle estimator StandardScaler from version 0.24.2 when using version 1.3.2. This might lead to breaking code or invalid results. Use at your own risk. For more info please refer to:\n",
      "https://scikit-learn.org/stable/model_persistence.html#security-maintainability-limitations\n",
      "  warnings.warn(\n",
      "/dipc/kstoreyf/.conda/envs/baccoenv/lib/python3.11/site-packages/sklearn/base.py:348: InconsistentVersionWarning: Trying to unpickle estimator PCA from version 0.24.2 when using version 1.3.2. This might lead to breaking code or invalid results. Use at your own risk. For more info please refer to:\n",
      "https://scikit-learn.org/stable/model_persistence.html#security-maintainability-limitations\n",
      "  warnings.warn(\n",
      "/dipc/kstoreyf/.conda/envs/baccoenv/lib/python3.11/site-packages/sklearn/base.py:348: InconsistentVersionWarning: Trying to unpickle estimator StandardScaler from version 0.24.2 when using version 1.3.2. This might lead to breaking code or invalid results. Use at your own risk. For more info please refer to:\n",
      "https://scikit-learn.org/stable/model_persistence.html#security-maintainability-limitations\n",
      "  warnings.warn(\n",
      "/dipc/kstoreyf/.conda/envs/baccoenv/lib/python3.11/site-packages/sklearn/base.py:348: InconsistentVersionWarning: Trying to unpickle estimator PCA from version 0.24.2 when using version 1.3.2. This might lead to breaking code or invalid results. Use at your own risk. For more info please refer to:\n",
      "https://scikit-learn.org/stable/model_persistence.html#security-maintainability-limitations\n",
      "  warnings.warn(\n",
      "/dipc/kstoreyf/.conda/envs/baccoenv/lib/python3.11/site-packages/sklearn/base.py:348: InconsistentVersionWarning: Trying to unpickle estimator StandardScaler from version 0.24.2 when using version 1.3.2. This might lead to breaking code or invalid results. Use at your own risk. For more info please refer to:\n",
      "https://scikit-learn.org/stable/model_persistence.html#security-maintainability-limitations\n",
      "  warnings.warn(\n",
      " 11% (131072 of 1146880) |#              | Elapsed Time: 0:00:00 ETA:  00:00:00"
     ]
    },
    {
     "name": "stdout",
     "output_type": "stream",
     "text": [
      "L-bias lpt emulator loaded in memory.\n",
      "Loading smeared bao emulator...\n",
      "Downloading emulator data (1.2 Mb)...\n"
     ]
    },
    {
     "name": "stderr",
     "output_type": "stream",
     "text": [
      "100% (1146880 of 1146880) |##############| Elapsed Time: 0:00:00 Time:  0:00:00\n",
      "/dipc/kstoreyf/.conda/envs/baccoenv/lib/python3.11/site-packages/sklearn/base.py:348: InconsistentVersionWarning: Trying to unpickle estimator PCA from version 1.0 when using version 1.3.2. This might lead to breaking code or invalid results. Use at your own risk. For more info please refer to:\n",
      "https://scikit-learn.org/stable/model_persistence.html#security-maintainability-limitations\n",
      "  warnings.warn(\n",
      "/dipc/kstoreyf/.conda/envs/baccoenv/lib/python3.11/site-packages/sklearn/base.py:348: InconsistentVersionWarning: Trying to unpickle estimator StandardScaler from version 1.0 when using version 1.3.2. This might lead to breaking code or invalid results. Use at your own risk. For more info please refer to:\n",
      "https://scikit-learn.org/stable/model_persistence.html#security-maintainability-limitations\n",
      "  warnings.warn(\n",
      "  1% (442368 of 34867200) |              | Elapsed Time: 0:00:00 ETA:  00:00:00"
     ]
    },
    {
     "name": "stdout",
     "output_type": "stream",
     "text": [
      "Smeared bao emulator loaded in memory.\n",
      "Loading non-linear l-bias emulator...\n",
      "Downloading emulator data (34Mb)...\n"
     ]
    },
    {
     "name": "stderr",
     "output_type": "stream",
     "text": [
      "100% (34867200 of 34867200) |############| Elapsed Time: 0:00:00 Time:  0:00:00\n",
      "/dipc/kstoreyf/.conda/envs/baccoenv/lib/python3.11/site-packages/sklearn/base.py:348: InconsistentVersionWarning: Trying to unpickle estimator StandardScaler from version 0.23.2 when using version 1.3.2. This might lead to breaking code or invalid results. Use at your own risk. For more info please refer to:\n",
      "https://scikit-learn.org/stable/model_persistence.html#security-maintainability-limitations\n",
      "  warnings.warn(\n",
      "/dipc/kstoreyf/.conda/envs/baccoenv/lib/python3.11/site-packages/sklearn/base.py:348: InconsistentVersionWarning: Trying to unpickle estimator PCA from version 0.23.2 when using version 1.3.2. This might lead to breaking code or invalid results. Use at your own risk. For more info please refer to:\n",
      "https://scikit-learn.org/stable/model_persistence.html#security-maintainability-limitations\n",
      "  warnings.warn(\n",
      " 10% (122880 of 1136640) |#              | Elapsed Time: 0:00:00 ETA:  00:00:00"
     ]
    },
    {
     "name": "stdout",
     "output_type": "stream",
     "text": [
      "Nonlinear l-bias emulator loaded in memory.\n",
      "Loading sigma8 emulator...\n",
      "Downloading emulator data (141 Kb)...\n"
     ]
    },
    {
     "name": "stderr",
     "output_type": "stream",
     "text": [
      "100% (1136640 of 1136640) |##############| Elapsed Time: 0:00:00 Time:  0:00:00\n",
      "  3% (270336 of 6922240) |               | Elapsed Time: 0:00:00 ETA:  00:00:00"
     ]
    },
    {
     "name": "stdout",
     "output_type": "stream",
     "text": [
      "Sigma8 emulator loaded in memory.\n",
      "Loading no-wiggles emulator...\n",
      "Downloading emulator data (6.7 Mb)...\n"
     ]
    },
    {
     "name": "stderr",
     "output_type": "stream",
     "text": [
      "100% (6922240 of 6922240) |##############| Elapsed Time: 0:00:00 Time:  0:00:00\n"
     ]
    },
    {
     "name": "stdout",
     "output_type": "stream",
     "text": [
      "No-wiggles emulator loaded in memory.\n"
     ]
    },
    {
     "name": "stderr",
     "output_type": "stream",
     "text": [
      "/dipc/kstoreyf/.conda/envs/baccoenv/lib/python3.11/site-packages/sklearn/base.py:348: InconsistentVersionWarning: Trying to unpickle estimator StandardScaler from version 1.0.2 when using version 1.3.2. This might lead to breaking code or invalid results. Use at your own risk. For more info please refer to:\n",
      "https://scikit-learn.org/stable/model_persistence.html#security-maintainability-limitations\n",
      "  warnings.warn(\n"
     ]
    }
   ],
   "source": [
    "emulator = baccoemu.Lbias_expansion()"
   ]
  },
  {
   "cell_type": "code",
   "execution_count": 95,
   "id": "2e36c0aa",
   "metadata": {},
   "outputs": [],
   "source": [
    "#k = np.logspace(-1.9, np.log10(emulator.emulator['nonlinear']['k'].max()), num=100)"
   ]
  },
  {
   "cell_type": "code",
   "execution_count": 82,
   "id": "17e12eb3",
   "metadata": {},
   "outputs": [],
   "source": [
    "# should this match camels??\n",
    "params = {\n",
    "    'omega_cold'    :  Om,\n",
    "    'sigma8_cold'   :  sigma8, # if A_s is not specified\n",
    "    'omega_baryon'  :  Ob,\n",
    "    'ns'            :  ns,\n",
    "    'hubble'        :  hubble,\n",
    "    'neutrino_mass' :  0.0,\n",
    "    'w0'            : -1.0,\n",
    "    'wa'            :  0.0,\n",
    "    'expfactor'     :  1\n",
    "}"
   ]
  },
  {
   "cell_type": "code",
   "execution_count": 83,
   "id": "64c60306",
   "metadata": {},
   "outputs": [
    {
     "name": "stdout",
     "output_type": "stream",
     "text": [
      "WARNING: the nonlinear emulator is extrapolating to k < 0.01 h/Mpc!\n"
     ]
    }
   ],
   "source": [
    "#k, pnn = emulator.get_nonlinear_pnn(k=k, **params)"
   ]
  },
  {
   "cell_type": "markdown",
   "id": "e02e2e93",
   "metadata": {},
   "source": [
    "### Fit bias params"
   ]
  },
  {
   "cell_type": "code",
   "execution_count": null,
   "id": "af96ae18",
   "metadata": {},
   "outputs": [],
   "source": [
    "def ln_like(bias_params, k_data, p_data, C_inv):\n",
    "    k, p_gg, p_gm = emulator.get_galaxy_real_pk(bias=bias_params, k=k_data, **params)\n",
    "    delta_y = p_gm - p_gg\n",
    "    lnlk = delta_y.T * C_inv * delta_y\n",
    "    return lnlk"
   ]
  },
  {
   "cell_type": "code",
   "execution_count": null,
   "id": "4db1d208",
   "metadata": {},
   "outputs": [],
   "source": [
    "k_data = # TODO\n",
    "p_data = pks[0]\n",
    "C_inv = np.diag(np.ones(len(pk_data))/len(pk_data))"
   ]
  },
  {
   "cell_type": "code",
   "execution_count": null,
   "id": "f0e06f27",
   "metadata": {},
   "outputs": [],
   "source": [
    "bias_params_0 = [0.5, 0.5, 1.0, -1.0]\n",
    "bias_params = scipy.optimize.minimize(ln_like, bias_params_0, args=[k_data, p_data, C_inv])"
   ]
  }
 ],
 "metadata": {
  "kernelspec": {
   "display_name": "Python [conda env:.conda-baccoenv] *",
   "language": "python",
   "name": "conda-env-.conda-baccoenv-py"
  },
  "language_info": {
   "codemirror_mode": {
    "name": "ipython",
    "version": 3
   },
   "file_extension": ".py",
   "mimetype": "text/x-python",
   "name": "python",
   "nbconvert_exporter": "python",
   "pygments_lexer": "ipython3",
   "version": "3.11.5"
  }
 },
 "nbformat": 4,
 "nbformat_minor": 5
}
