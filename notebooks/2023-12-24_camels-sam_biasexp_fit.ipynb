{
 "cells": [
  {
   "cell_type": "code",
   "execution_count": 8,
   "id": "09135bc3",
   "metadata": {},
   "outputs": [
    {
     "ename": "ModuleNotFoundError",
     "evalue": "No module named 'bacco'",
     "output_type": "error",
     "traceback": [
      "\u001b[0;31m---------------------------------------------------------------------------\u001b[0m",
      "\u001b[0;31mModuleNotFoundError\u001b[0m                       Traceback (most recent call last)",
      "Cell \u001b[0;32mIn[8], line 12\u001b[0m\n\u001b[1;32m      9\u001b[0m \u001b[38;5;28;01mfrom\u001b[39;00m \u001b[38;5;21;01mos\u001b[39;00m \u001b[38;5;28;01mimport\u001b[39;00m listdir\n\u001b[1;32m     10\u001b[0m \u001b[38;5;28;01mfrom\u001b[39;00m \u001b[38;5;21;01mos\u001b[39;00m\u001b[38;5;21;01m.\u001b[39;00m\u001b[38;5;21;01mpath\u001b[39;00m \u001b[38;5;28;01mimport\u001b[39;00m isfile, join\n\u001b[0;32m---> 12\u001b[0m \u001b[38;5;28;01mimport\u001b[39;00m \u001b[38;5;21;01mbacco\u001b[39;00m\n\u001b[1;32m     13\u001b[0m \u001b[38;5;28;01mimport\u001b[39;00m \u001b[38;5;21;01mbaccoemu\u001b[39;00m\n\u001b[1;32m     15\u001b[0m \u001b[38;5;28;01mimport\u001b[39;00m \u001b[38;5;21;01mmatplotlib\u001b[39;00m\n",
      "\u001b[0;31mModuleNotFoundError\u001b[0m: No module named 'bacco'"
     ]
    }
   ],
   "source": [
    "import h5py\n",
    "import numpy as np\n",
    "import os\n",
    "import pandas as pd\n",
    "import scipy\n",
    "import subprocess\n",
    "import time\n",
    "\n",
    "from os import listdir\n",
    "from os.path import isfile, join\n",
    "\n",
    "import bacco\n",
    "import baccoemu\n",
    "\n",
    "import matplotlib\n",
    "from matplotlib import pyplot as plt"
   ]
  },
  {
   "cell_type": "code",
   "execution_count": 6,
   "id": "ad0a7349",
   "metadata": {},
   "outputs": [
    {
     "ename": "NameError",
     "evalue": "name 'matplotlib' is not defined",
     "output_type": "error",
     "traceback": [
      "\u001b[0;31m---------------------------------------------------------------------------\u001b[0m",
      "\u001b[0;31mNameError\u001b[0m                                 Traceback (most recent call last)",
      "Cell \u001b[0;32mIn[6], line 1\u001b[0m\n\u001b[0;32m----> 1\u001b[0m matplotlib\u001b[38;5;241m.\u001b[39mrcParams[\u001b[38;5;124m'\u001b[39m\u001b[38;5;124mytick.labelsize\u001b[39m\u001b[38;5;124m'\u001b[39m] \u001b[38;5;241m=\u001b[39m \u001b[38;5;241m16\u001b[39m\n\u001b[1;32m      2\u001b[0m matplotlib\u001b[38;5;241m.\u001b[39mrcParams[\u001b[38;5;124m'\u001b[39m\u001b[38;5;124mxtick.labelsize\u001b[39m\u001b[38;5;124m'\u001b[39m] \u001b[38;5;241m=\u001b[39m \u001b[38;5;241m16\u001b[39m\n\u001b[1;32m      3\u001b[0m matplotlib\u001b[38;5;241m.\u001b[39mrcParams[\u001b[38;5;124m'\u001b[39m\u001b[38;5;124maxes.labelsize\u001b[39m\u001b[38;5;124m'\u001b[39m] \u001b[38;5;241m=\u001b[39m \u001b[38;5;241m18\u001b[39m\n",
      "\u001b[0;31mNameError\u001b[0m: name 'matplotlib' is not defined"
     ]
    }
   ],
   "source": [
    "matplotlib.rcParams['ytick.labelsize'] = 16\n",
    "matplotlib.rcParams['xtick.labelsize'] = 16\n",
    "matplotlib.rcParams['axes.labelsize'] = 18\n",
    "matplotlib.rcParams['legend.fontsize'] = 14\n",
    "matplotlib.rcParams['axes.titlesize'] = 20\n",
    "\n",
    "#matplotlib.rc('text', usetex=True)"
   ]
  },
  {
   "cell_type": "markdown",
   "id": "cfe3118c",
   "metadata": {},
   "source": [
    "## Bacco setup"
   ]
  },
  {
   "cell_type": "code",
   "execution_count": null,
   "id": "70b68a9b",
   "metadata": {},
   "outputs": [],
   "source": [
    "##### DEFINE QUIJOTE COSMOLOGY ############\n",
    "# The cosmology is not really needed but\n",
    "# bacco P(k) corrects some modes according\n",
    "# to their cosmology, so better have it\n",
    "# just in case\n",
    "\n",
    "a_Quijote = 1\n",
    "Ob = 0.049\n",
    "Om = 0.3175\n",
    "hubble = 0.6711\n",
    "ns = 0.9624\n",
    "sigma8 = 0.834\n",
    "cosmopars = dict(\n",
    "        omega_cdm=Om-Ob,\n",
    "        omega_baryon=Ob, \n",
    "        hubble=hubble, \n",
    "        ns=ns, \n",
    "        sigma8=sigma8,\n",
    "        #tau=0.0561,\n",
    "        A_s=None,\n",
    "        neutrino_mass=0.,\n",
    "        w0=-1,\n",
    "        wa=0,\n",
    "        tag=\"cosmo_BOSS\"\n",
    "    )\n",
    "    \n",
    "    \n",
    "cosmo_Quijote = bacco.Cosmology(**cosmopars)\n",
    "cosmo_Quijote.set_expfactor(a_Quijote)"
   ]
  },
  {
   "cell_type": "code",
   "execution_count": null,
   "id": "4d6e7658",
   "metadata": {},
   "outputs": [],
   "source": [
    "ngrid = 256 #1024 #512 #256 #128 #256 #1400\n",
    "#nmean=0.01 not used\n",
    "BoxSize=100/hubble\n",
    "print(BoxSize)\n",
    "\n",
    "bacco.configuration.update({'pknbody' : {'ngrid'  :  ngrid}})\n",
    "bacco.configuration.update({'pknbody' : {'log_binning' : True}})\n",
    "bacco.configuration.update({'pknbody' : {'log_binning_kmax' : 0.99506136}})#\n",
    "bacco.configuration.update({'pknbody' : {'log_binning_nbins' : 100}})\n",
    "bacco.configuration.update({'pknbody' : {'min_k' : 0.01721049}})\n",
    "bacco.configuration.update({'pk' : {'maxk' : 0.99506136}}) \n",
    "bacco.configuration.update({'pknbody' : {'interlacing' : True}})\n",
    "\n",
    "bacco.configuration.update({'pknbody' : {'depmethod' : 'cic'}})\n",
    "\n",
    "bacco.configuration.update({'nonlinear' : {'concentration' : 'ludlow16'}})\n",
    "\n",
    "bacco.configuration.update({'number_of_threads' : 12})\n",
    "bacco.configuration.update({'scaling' : {'disp_ngrid' : ngrid}})\n",
    "\n",
    "bacco.configuration.update({'pk':{'boltzmann_solver': 'CLASS'}})"
   ]
  },
  {
   "cell_type": "markdown",
   "id": "2e119e28",
   "metadata": {},
   "source": [
    "## Load SAM data from hdf5 files"
   ]
  },
  {
   "cell_type": "code",
   "execution_count": null,
   "id": "c3a56268",
   "metadata": {},
   "outputs": [],
   "source": [
    "redshift = 0\n",
    "dir_dat = '/lscratch/kstoreyf/CAMELS-SAM_data'"
   ]
  },
  {
   "cell_type": "code",
   "execution_count": null,
   "id": "4358143f",
   "metadata": {},
   "outputs": [],
   "source": [
    "fns_dat = [join(dir_dat, f) for f in listdir(dir_dat) if isfile(join(dir_dat, f))]\n",
    "#idx_sam = 0\n",
    "#fns_dat = [f'{dir_dat}/LH_{idx_sam}_galprops_z{redshift}.hdf5']"
   ]
  },
  {
   "cell_type": "code",
   "execution_count": null,
   "id": "28ddc6d5",
   "metadata": {},
   "outputs": [],
   "source": [
    "n_sams = len(fns_dat)"
   ]
  },
  {
   "cell_type": "markdown",
   "id": "56325b31",
   "metadata": {},
   "source": [
    "## Load PROVABGS data"
   ]
  },
  {
   "cell_type": "markdown",
   "id": "01c4627b",
   "metadata": {},
   "source": [
    "Downloaded from https://zenodo.org/records/8018936"
   ]
  },
  {
   "cell_type": "code",
   "execution_count": null,
   "id": "20835f5e",
   "metadata": {},
   "outputs": [],
   "source": [
    "# probabilistic SMFs\n",
    "fn_psmf_bgs_q = '../data/data_provabgs/psmf.sv3.bgs_bright_q.z0.01_0.05.dat'\n",
    "ms, psmf_bgs_q_mean, psmf_bgs_q_std = np.loadtxt(fn_psmf_bgs_q, unpack=True)\n",
    "\n",
    "fn_psmf_bgs_sf = '../data/data_provabgs/psmf.sv3.bgs_bright_sf.z0.01_0.05.dat'\n",
    "ms, psmf_bgs_sf_mean, psmf_bgs_sf_std = np.loadtxt(fn_psmf_bgs_sf, unpack=True)"
   ]
  },
  {
   "cell_type": "code",
   "execution_count": null,
   "id": "00fb7607",
   "metadata": {},
   "outputs": [],
   "source": [
    "# combine sf and q (star-forming and quiescent)\n",
    "psmf_bgs_mean = psmf_bgs_sf_mean + psmf_bgs_q_mean\n",
    "psmf_bgs_std = np.sqrt(psmf_bgs_sf_std**2 + psmf_bgs_q_std**2)"
   ]
  },
  {
   "cell_type": "code",
   "execution_count": null,
   "id": "7f0ac316",
   "metadata": {},
   "outputs": [],
   "source": [
    "# standard (non-probabilistic) SMF, as check\n",
    "fn_smf_bgs = '../data/data_provabgs/smf.standard.sv3.bgs_bright.z0.01_0.05.dat'\n",
    "ms_smf, smf_bgs = np.loadtxt(fn_smf_bgs, unpack=True)"
   ]
  },
  {
   "cell_type": "markdown",
   "id": "cf12aab7",
   "metadata": {},
   "source": [
    "## Plot CAMELS SMFs"
   ]
  },
  {
   "cell_type": "code",
   "execution_count": null,
   "id": "4944f95c",
   "metadata": {},
   "outputs": [],
   "source": [
    "log_mass_shift = 9\n",
    "h = 0.6711 # from perez et al\n",
    "print(h**3)\n",
    "vol_Mpc = (100/h)**3 # 100 Mpc/h = 100/h Mpc\n",
    "vol_hMpc = 100**3 # units Mpc/h!! to match bgs; diff than plotted in camels paper\n",
    "print(vol_Mpc, vol_hMpc)"
   ]
  },
  {
   "cell_type": "code",
   "execution_count": null,
   "id": "f1508f4a",
   "metadata": {},
   "outputs": [],
   "source": [
    "edges = np.linspace(8, 12.5, 40)\n",
    "\n",
    "bin_width = edges[1] - edges[0]                \n",
    "bins_avg = edges[0:-1] + bin_width/2.           "
   ]
  },
  {
   "cell_type": "code",
   "execution_count": null,
   "id": "dd1b92eb",
   "metadata": {},
   "outputs": [],
   "source": [
    "smf_arr = []\n",
    "for i in range(n_sams):\n",
    "    fn_dat = fns_dat[i]\n",
    "    with h5py.File(fn_dat, 'r') as f:\n",
    "        mstar_raw = np.array(f['mstar'])\n",
    "        log_mstar = np.log10(mstar_raw) + log_mass_shift\n",
    "        \n",
    "        phi, edges = np.histogram(log_mstar, bins=edges)   \n",
    "        smf = phi / vol_Mpc / bin_width\n",
    "        smf_arr.append(smf)    "
   ]
  },
  {
   "cell_type": "code",
   "execution_count": null,
   "id": "624f2b33",
   "metadata": {},
   "outputs": [],
   "source": [
    "def get_distance_sigma(x1, y1, yerr1, x2, y2, xrange):\n",
    "    xmin, xmax = xrange\n",
    "\n",
    "    y1 = y1[(x1>=xmin) & (x1<xmax)]\n",
    "    yerr1 = yerr1[(x1>=xmin) & (x1<xmax)]\n",
    "    y2 = y2[(x2>=xmin) & (x2<xmax)]\n",
    "\n",
    "    x1 = x1[(x1>=xmin) & (x1<xmax)]\n",
    "    x2 = x2[(x2>=xmin) & (x2<xmax)]\n",
    "    \n",
    "    # interpolate y2 to be at the same x-vals as x2/y2\n",
    "    y2_interp = np.interp(x1, x2, y2)\n",
    "    sigmas = (y2_interp - y1)/yerr1\n",
    "    sigma_mean = np.mean(np.abs(sigmas))\n",
    "    return sigma_mean"
   ]
  },
  {
   "cell_type": "code",
   "execution_count": null,
   "id": "b218baef",
   "metadata": {},
   "outputs": [],
   "source": [
    "sigma_means = []\n",
    "xrange = [8,11]\n",
    "for i in range(n_sams):\n",
    "    \n",
    "    sigma_mean = get_distance_sigma(ms, psmf_bgs_mean, psmf_bgs_std, bins_avg, smf_arr[i], xrange)\n",
    "    sigma_means.append(sigma_mean)\n",
    "sigma_means = np.array(sigma_means)"
   ]
  },
  {
   "cell_type": "code",
   "execution_count": null,
   "id": "1111b95b",
   "metadata": {},
   "outputs": [],
   "source": [
    "locs_norm = matplotlib.colors.Normalize(np.min(sigma_means), np.max(sigma_means), len(sigma_means))\n",
    "cmap = matplotlib.cm.get_cmap('cool_r')\n",
    "colors = cmap(locs_norm(sigma_means))"
   ]
  },
  {
   "cell_type": "code",
   "execution_count": null,
   "id": "0c3f13f2",
   "metadata": {},
   "outputs": [],
   "source": [
    "for i in range(n_sams):\n",
    "    plt.plot(bins_avg, smf_arr[i], lw=0.7, color=colors[i])\n",
    "ax = plt.gca()\n",
    "sm = plt.cm.ScalarMappable(cmap=cmap, norm=locs_norm)\n",
    "plt.colorbar(sm, ax=ax, label=r'$\\bar{\\sigma}_\\text{SMF}$')\n",
    "\n",
    "smf_mean = np.mean(smf_arr, axis=0)\n",
    "smf_std = np.std(smf_arr, axis=0)\n",
    "plt.plot(bins_avg, smf_mean, color='grey')\n",
    "# plt.fill_between(bins_avg, \n",
    "#                  (smf_mean-smf_std), \n",
    "#                  (smf_mean+smf_std),\n",
    "#                  color='magenta', alpha=0.3, lw=2,\n",
    "#                  label='pSMF all')\n",
    "    \n",
    "plt.plot(ms, psmf_bgs_mean, color='black')\n",
    "plt.fill_between(ms, \n",
    "                 psmf_bgs_mean-psmf_bgs_std, \n",
    "                 psmf_bgs_mean+psmf_bgs_std,\n",
    "                 color='black', alpha=0.3,\n",
    "                 zorder=10000,\n",
    "                 label='BGS pSMF')\n",
    "    \n",
    "plt.yscale('log')\n",
    "plt.xlabel(r'$\\log(M_\\star\\,/\\,M_\\odot)$')\n",
    "plt.ylabel(r'$\\Phi \\: [\\mathrm{dex}^{-1}\\, \\mathrm{Mpc}^{-3}]$')\n",
    "plt.xlim(8, 12.5)"
   ]
  },
  {
   "cell_type": "markdown",
   "id": "e341f479",
   "metadata": {},
   "source": [
    "## Set up bacco P(k) code"
   ]
  },
  {
   "cell_type": "code",
   "execution_count": null,
   "id": "393cc5d8",
   "metadata": {},
   "outputs": [],
   "source": [
    "args_power = {'ngrid':ngrid,\n",
    "                  'box':BoxSize,\n",
    "                  'cosmology':cosmo_Quijote,\n",
    "                  'interlacing':True,\n",
    "                  'kmin':0.1,\n",
    "                  'kmax':1.0,\n",
    "                  'nbins':16,\n",
    "                  'correct_grid':True,\n",
    "                  'log_binning':False,\n",
    "                  'deposit_method':'cic',\n",
    "                  'compute_correlation':False,\n",
    "                  'zspace':False,\n",
    "                  'normalise_grid': True,\n",
    "                  'compute_power2d':False}"
   ]
  },
  {
   "cell_type": "code",
   "execution_count": null,
   "id": "6b99bbb7",
   "metadata": {},
   "outputs": [],
   "source": [
    "import logging\n",
    "logger = logging.getLogger(\"bacco.power\")\n",
    "# only log really bad events\n",
    "logger.setLevel(logging.ERROR)"
   ]
  },
  {
   "cell_type": "code",
   "execution_count": null,
   "id": "d9bf98ee",
   "metadata": {},
   "outputs": [],
   "source": [
    "pks = []\n",
    "for i in range(n_sams):\n",
    "    fn_dat = fns_dat[i]\n",
    "    with h5py.File(fn_dat, 'r') as f:\n",
    "        x_arr, y_arr, z_arr = f['x_position'], f['y_position'], f['z_position']\n",
    "        pos_arr = np.array([x_arr, y_arr, z_arr]).T\n",
    "        pk = bacco.statistics.compute_powerspectrum(pos=pos_arr, **args_power)\n",
    "        pks.append(pk)"
   ]
  },
  {
   "cell_type": "code",
   "execution_count": null,
   "id": "39103df5",
   "metadata": {},
   "outputs": [],
   "source": [
    "for i in range(n_sams):\n",
    "    plt.plot(pks[i]['k'], pks[i]['pk'], lw=0.7, color=colors[i])\n",
    "    \n",
    "ax = plt.gca()\n",
    "sm = plt.cm.ScalarMappable(cmap=cmap, norm=locs_norm)\n",
    "plt.colorbar(sm, ax=ax, label=r'$\\bar{\\sigma}_\\text{SMF}$')\n",
    "    \n",
    "plt.xscale('log')\n",
    "plt.yscale('log')\n",
    "plt.xlabel(r'$k$')\n",
    "plt.ylabel(r'$P(k)$')"
   ]
  },
  {
   "cell_type": "code",
   "execution_count": null,
   "id": "17ef6684",
   "metadata": {},
   "outputs": [],
   "source": [
    "k_sam_all = pks[0]['k'] # same for all "
   ]
  },
  {
   "cell_type": "markdown",
   "id": "6d6e1118",
   "metadata": {},
   "source": [
    "## Load bacco emu"
   ]
  },
  {
   "cell_type": "code",
   "execution_count": null,
   "id": "ea84bba3",
   "metadata": {},
   "outputs": [],
   "source": [
    "emulator = baccoemu.Lbias_expansion()"
   ]
  },
  {
   "cell_type": "code",
   "execution_count": null,
   "id": "2e36c0aa",
   "metadata": {},
   "outputs": [],
   "source": [
    "#k = np.logspace(-1.9, np.log10(emulator.emulator['nonlinear']['k'].max()), num=100)"
   ]
  },
  {
   "cell_type": "code",
   "execution_count": null,
   "id": "17e12eb3",
   "metadata": {},
   "outputs": [],
   "source": [
    "# should this match camels??\n",
    "params = {\n",
    "    'omega_cold'    :  Om,\n",
    "    'sigma8_cold'   :  sigma8, # if A_s is not specified\n",
    "    'omega_baryon'  :  Ob,\n",
    "    'ns'            :  ns,\n",
    "    'hubble'        :  hubble,\n",
    "    'neutrino_mass' :  0.0,\n",
    "    'w0'            : -1.0,\n",
    "    'wa'            :  0.0,\n",
    "    'expfactor'     :  1\n",
    "}"
   ]
  },
  {
   "cell_type": "code",
   "execution_count": null,
   "id": "64c60306",
   "metadata": {},
   "outputs": [],
   "source": [
    "#k, pnn = emulator.get_nonlinear_pnn(k=k, **params)"
   ]
  },
  {
   "cell_type": "markdown",
   "id": "e02e2e93",
   "metadata": {},
   "source": [
    "### Fit bias params"
   ]
  },
  {
   "cell_type": "code",
   "execution_count": null,
   "id": "af96ae18",
   "metadata": {},
   "outputs": [],
   "source": [
    "def ln_like(bias_params, k_data, p_data, C_inv):\n",
    "    _, p_gg, _ = emulator.get_galaxy_real_pk(bias=bias_params, k=k_data, **params)\n",
    "    delta_y = p_data - p_gg\n",
    "    lnlk = 0.5 * delta_y.T @ C_inv @ delta_y\n",
    "    return lnlk"
   ]
  },
  {
   "cell_type": "code",
   "execution_count": null,
   "id": "4db1d208",
   "metadata": {},
   "outputs": [],
   "source": [
    "i_bins = k_sam_all < 0.75\n",
    "k_sam = k_sam_all[i_bins]\n",
    "C_inv = np.diag(np.ones(len(k_sam))/len(k_sam))"
   ]
  },
  {
   "cell_type": "code",
   "execution_count": null,
   "id": "060e7294",
   "metadata": {},
   "outputs": [],
   "source": [
    "bias_param_names = ['b1', 'b2', 'bs2', 'bl']\n",
    "bias_param_labels = {'b1': r'$b_1$', \n",
    "                     'b2': r'$b_2$', \n",
    "                     'bs2': r'$b_{s^2}$', \n",
    "                     'bl': r'$b_{\\nabla^2 \\delta}$',\n",
    "                    }\n",
    "bias_bounds = {'b1': [-0.25, 1.75],\n",
    "               'b2': [-1, 2],\n",
    "               'bs2': [-3, 1],\n",
    "               'bl': [-5, 2],\n",
    "              } \n",
    "bounds = [bias_bounds[bname] for bname in bias_param_names]"
   ]
  },
  {
   "cell_type": "code",
   "execution_count": null,
   "id": "4bba5a0e",
   "metadata": {},
   "outputs": [],
   "source": [
    "n_fit = 10"
   ]
  },
  {
   "cell_type": "code",
   "execution_count": null,
   "id": "f0e06f27",
   "metadata": {},
   "outputs": [],
   "source": [
    "bias_params_0 = [0.5, 0.5, 1.0, -1.0]\n",
    "res_arr = []\n",
    "for i in range(n_fit):\n",
    "    print(f\"Fitting SAM {i}\")\n",
    "    p_sam = pks[i]['pk'][i_bins]\n",
    "    res = scipy.optimize.minimize(ln_like, bias_params_0, bounds=bounds, args=(k_sam, p_sam, C_inv))\n",
    "    res_arr.append(res)"
   ]
  },
  {
   "cell_type": "code",
   "execution_count": null,
   "id": "c2ec53f7",
   "metadata": {},
   "outputs": [],
   "source": [
    "print(np.sum([res['success'] for res in res_arr]))"
   ]
  },
  {
   "cell_type": "code",
   "execution_count": null,
   "id": "50a29acb",
   "metadata": {},
   "outputs": [],
   "source": [
    "for i in range(n_fit):\n",
    "    plt.plot(pks[i]['k'], pks[i]['pk'], lw=0.7, color=colors[i])\n",
    "    _, pk_emu, _ = emulator.get_galaxy_real_pk(bias=res_arr[i]['x'], k=k_sam, **params)\n",
    "    plt.plot(k_sam, pk_emu, lw=0.7, ls='--', color=colors[i])\n",
    "\n",
    "    \n",
    "plt.xscale('log')\n",
    "plt.yscale('log')\n",
    "plt.xlabel(r'$k$')\n",
    "plt.ylabel(r'$P(k)$')"
   ]
  },
  {
   "cell_type": "markdown",
   "id": "f19835c3",
   "metadata": {},
   "source": [
    "## Plot bias params"
   ]
  },
  {
   "cell_type": "code",
   "execution_count": null,
   "id": "c7504e37",
   "metadata": {},
   "outputs": [],
   "source": [
    "nrows, ncols = 3, 1\n",
    "fig, axarr = plt.subplots(nrows, ncols, figsize=(5, 3*nrows), sharex=True)\n",
    "plt.subplots_adjust(hspace=0)\n",
    "\n",
    "for i in range(n_fit):\n",
    "    bias_params = res_arr[i]['x']\n",
    "    for bb in range(1,len(bias_param_names)):\n",
    "        axarr[bb-1].plot(bias_params[0], bias_params[bb], marker='o', markersize=6, color=colors[i])\n",
    "        axarr[bb-1].set_ylabel(bias_param_labels[bias_param_names[bb]])\n",
    "\n",
    "plt.xlabel(bias_param_labels[bias_param_names[0]])"
   ]
  },
  {
   "cell_type": "code",
   "execution_count": null,
   "id": "5ef045fb",
   "metadata": {},
   "outputs": [],
   "source": []
  }
 ],
 "metadata": {
  "kernelspec": {
   "display_name": "Python [conda env:baccoenv]",
   "language": "python",
   "name": "conda-env-baccoenv-py"
  },
  "language_info": {
   "codemirror_mode": {
    "name": "ipython",
    "version": 3
   },
   "file_extension": ".py",
   "mimetype": "text/x-python",
   "name": "python",
   "nbconvert_exporter": "python",
   "pygments_lexer": "ipython3",
   "version": "3.11.5"
  }
 },
 "nbformat": 4,
 "nbformat_minor": 5
}
