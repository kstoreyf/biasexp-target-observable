{
 "cells": [
  {
   "cell_type": "code",
   "execution_count": 2,
   "id": "09135bc3",
   "metadata": {},
   "outputs": [
    {
     "name": "stderr",
     "output_type": "stream",
     "text": [
      "2023-12-26 00:25:11.609398: I external/local_tsl/tsl/cuda/cudart_stub.cc:31] Could not find cuda drivers on your machine, GPU will not be used.\n",
      "2023-12-26 00:25:13.736765: E external/local_xla/xla/stream_executor/cuda/cuda_dnn.cc:9261] Unable to register cuDNN factory: Attempting to register factory for plugin cuDNN when one has already been registered\n",
      "2023-12-26 00:25:13.736919: E external/local_xla/xla/stream_executor/cuda/cuda_fft.cc:607] Unable to register cuFFT factory: Attempting to register factory for plugin cuFFT when one has already been registered\n",
      "2023-12-26 00:25:14.040903: E external/local_xla/xla/stream_executor/cuda/cuda_blas.cc:1515] Unable to register cuBLAS factory: Attempting to register factory for plugin cuBLAS when one has already been registered\n",
      "2023-12-26 00:25:14.689760: I external/local_tsl/tsl/cuda/cudart_stub.cc:31] Could not find cuda drivers on your machine, GPU will not be used.\n",
      "2023-12-26 00:25:14.697081: I tensorflow/core/platform/cpu_feature_guard.cc:182] This TensorFlow binary is optimized to use available CPU instructions in performance-critical operations.\n",
      "To enable the following instructions: AVX2 AVX512F FMA, in other operations, rebuild TensorFlow with the appropriate compiler flags.\n",
      "2023-12-26 00:25:34.897286: W tensorflow/compiler/tf2tensorrt/utils/py_utils.cc:38] TF-TRT Warning: Could not find TensorRT\n",
      "2023-12-26 00:25:59.523171: W tensorflow/core/common_runtime/gpu/gpu_device.cc:2256] Cannot dlopen some GPU libraries. Please make sure the missing libraries mentioned above are installed properly if you would like to use GPU. Follow the guide at https://www.tensorflow.org/install/gpu for how to download and setup the required libraries for your platform.\n",
      "Skipping registering GPU devices...\n"
     ]
    }
   ],
   "source": [
    "import h5py\n",
    "import numpy as np\n",
    "import os\n",
    "import pandas as pd\n",
    "import subprocess\n",
    "import time\n",
    "\n",
    "from os import listdir\n",
    "from os.path import isfile, join\n",
    "\n",
    "import bacco\n",
    "import baccoemu\n",
    "\n",
    "import matplotlib\n",
    "from matplotlib import pyplot as plt"
   ]
  },
  {
   "cell_type": "code",
   "execution_count": 3,
   "id": "ad0a7349",
   "metadata": {},
   "outputs": [],
   "source": [
    "matplotlib.rcParams['ytick.labelsize'] = 16\n",
    "matplotlib.rcParams['xtick.labelsize'] = 16\n",
    "matplotlib.rcParams['axes.labelsize'] = 18\n",
    "matplotlib.rcParams['legend.fontsize'] = 14\n",
    "matplotlib.rcParams['axes.titlesize'] = 20\n",
    "\n",
    "#matplotlib.rc('text', usetex=True)"
   ]
  },
  {
   "cell_type": "markdown",
   "id": "cfe3118c",
   "metadata": {},
   "source": [
    "## Bacco setup"
   ]
  },
  {
   "cell_type": "code",
   "execution_count": 4,
   "id": "70b68a9b",
   "metadata": {},
   "outputs": [
    {
     "name": "stderr",
     "output_type": "stream",
     "text": [
      "2023-12-26 00:25:59,686 bacco.cosmo :    initialization took 0.000 secs\n"
     ]
    }
   ],
   "source": [
    "##### DEFINE QUIJOTE COSMOLOGY ############\n",
    "# The cosmology is not really needed but\n",
    "# bacco P(k) corrects some modes according\n",
    "# to their cosmology, so better have it\n",
    "# just in case\n",
    "\n",
    "a_Quijote = 1\n",
    "Ob = 0.049\n",
    "Om = 0.3175\n",
    "hubble = 0.6711\n",
    "ns = 0.9624\n",
    "sigma8 = 0.834\n",
    "cosmopars = dict(\n",
    "        omega_cdm=Om-Ob,\n",
    "        omega_baryon=Ob, \n",
    "        hubble=hubble, \n",
    "        ns=ns, \n",
    "        sigma8=sigma8,\n",
    "        #tau=0.0561,\n",
    "        A_s=None,\n",
    "        neutrino_mass=0.,\n",
    "        w0=-1,\n",
    "        wa=0,\n",
    "        tag=\"cosmo_BOSS\"\n",
    "    )\n",
    "    \n",
    "    \n",
    "cosmo_Quijote = bacco.Cosmology(**cosmopars)\n",
    "cosmo_Quijote.set_expfactor(a_Quijote)"
   ]
  },
  {
   "cell_type": "code",
   "execution_count": 5,
   "id": "4d6e7658",
   "metadata": {},
   "outputs": [
    {
     "name": "stdout",
     "output_type": "stream",
     "text": [
      "149.0090895544628\n"
     ]
    }
   ],
   "source": [
    "ngrid = 256 #1024 #512 #256 #128 #256 #1400\n",
    "#nmean=0.01 not used\n",
    "BoxSize=100/hubble\n",
    "print(BoxSize)\n",
    "\n",
    "bacco.configuration.update({'pknbody' : {'ngrid'  :  ngrid}})\n",
    "bacco.configuration.update({'pknbody' : {'log_binning' : True}})\n",
    "bacco.configuration.update({'pknbody' : {'log_binning_kmax' : 0.99506136}})#\n",
    "bacco.configuration.update({'pknbody' : {'log_binning_nbins' : 100}})\n",
    "bacco.configuration.update({'pknbody' : {'min_k' : 0.01721049}})\n",
    "bacco.configuration.update({'pk' : {'maxk' : 0.99506136}}) \n",
    "bacco.configuration.update({'pknbody' : {'interlacing' : True}})\n",
    "\n",
    "bacco.configuration.update({'pknbody' : {'depmethod' : 'cic'}})\n",
    "\n",
    "bacco.configuration.update({'nonlinear' : {'concentration' : 'ludlow16'}})\n",
    "\n",
    "bacco.configuration.update({'number_of_threads' : 12})\n",
    "bacco.configuration.update({'scaling' : {'disp_ngrid' : ngrid}})\n",
    "\n",
    "bacco.configuration.update({'pk':{'boltzmann_solver': 'CLASS'}})"
   ]
  },
  {
   "cell_type": "markdown",
   "id": "2e119e28",
   "metadata": {},
   "source": [
    "## Load SAM data from hdf5 files"
   ]
  },
  {
   "cell_type": "code",
   "execution_count": 6,
   "id": "c3a56268",
   "metadata": {},
   "outputs": [],
   "source": [
    "redshift = 0\n",
    "dir_dat = '/lscratch/kstoreyf/CAMELS-SAM_data'"
   ]
  },
  {
   "cell_type": "code",
   "execution_count": 7,
   "id": "4358143f",
   "metadata": {},
   "outputs": [],
   "source": [
    "#fns_dat = [join(dir_dat, f) for f in listdir(dir_dat) if isfile(join(dir_dat, f))]\n",
    "idx_sam = 0\n",
    "fns_dat = [f'{dir_dat}/LH_{idx_sam}_galprops_z{redshift}.hdf5']"
   ]
  },
  {
   "cell_type": "markdown",
   "id": "cf12aab7",
   "metadata": {},
   "source": [
    "## Plot CAMELS SMFs"
   ]
  },
  {
   "cell_type": "code",
   "execution_count": 8,
   "id": "4944f95c",
   "metadata": {},
   "outputs": [
    {
     "name": "stdout",
     "output_type": "stream",
     "text": [
      "0.302246803431\n",
      "3308554.428527777 1000000\n"
     ]
    }
   ],
   "source": [
    "log_mass_shift = 9\n",
    "h = 0.6711 # from perez et al\n",
    "print(h**3)\n",
    "vol_Mpc = (100/h)**3 # 100 Mpc/h = 100/h Mpc\n",
    "vol_hMpc = 100**3 # units Mpc/h!! to match bgs; diff than plotted in camels paper\n",
    "print(vol_Mpc, vol_hMpc)"
   ]
  },
  {
   "cell_type": "code",
   "execution_count": 9,
   "id": "f1508f4a",
   "metadata": {},
   "outputs": [],
   "source": [
    "edges = np.linspace(8, 12.5, 40)\n",
    "\n",
    "bin_width = edges[1] - edges[0]                \n",
    "bins_avg = edges[0:-1] + bin_width/2.           "
   ]
  },
  {
   "cell_type": "code",
   "execution_count": 16,
   "id": "dd1b92eb",
   "metadata": {},
   "outputs": [
    {
     "name": "stdout",
     "output_type": "stream",
     "text": [
      "<KeysViewHDF5 ['halo_index', 'mhalo', 'mstar', 'rhalo', 'sat_type', 'sfr', 'sfrave1gyr', 'vx', 'vy', 'vz', 'x_position', 'y_position', 'z_position']>\n",
      "13\n"
     ]
    },
    {
     "name": "stderr",
     "output_type": "stream",
     "text": [
      "/tmp/ipykernel_240022/1568752271.py:7: RuntimeWarning: divide by zero encountered in log10\n",
      "  log_mstar = np.log10(mstar_raw) + log_mass_shift\n"
     ]
    }
   ],
   "source": [
    "smf_arr = []\n",
    "for fn_dat in fns_dat[:2]:\n",
    "    with h5py.File(fn_dat, 'r') as f:\n",
    "        print(f.keys())\n",
    "        print(len(f.keys()))\n",
    "        mstar_raw = np.array(f['mstar'])\n",
    "        log_mstar = np.log10(mstar_raw) + log_mass_shift\n",
    "        \n",
    "        phi, edges = np.histogram(log_mstar, bins=edges)   \n",
    "        smf = phi / vol_Mpc / bin_width\n",
    "        smf_arr.append(smf)    "
   ]
  },
  {
   "cell_type": "code",
   "execution_count": 17,
   "id": "abc553a9",
   "metadata": {},
   "outputs": [
    {
     "data": {
      "text/plain": [
       "(174733, 174732, 1.90292e-07, 1376.48)"
      ]
     },
     "execution_count": 17,
     "metadata": {},
     "output_type": "execute_result"
    }
   ],
   "source": [
    "len(mstar_raw), np.sum(mstar_raw>0), np.min(mstar_raw[mstar_raw>0]), np.max(mstar_raw)"
   ]
  },
  {
   "cell_type": "code",
   "execution_count": 18,
   "id": "172618e7",
   "metadata": {},
   "outputs": [
    {
     "data": {
      "text/plain": [
       "2.2794205306470507"
      ]
     },
     "execution_count": 18,
     "metadata": {},
     "output_type": "execute_result"
    }
   ],
   "source": [
    "np.log10(np.min(mstar_raw[mstar_raw>0])) + log_mass_shift"
   ]
  },
  {
   "cell_type": "code",
   "execution_count": 19,
   "id": "960e4514",
   "metadata": {},
   "outputs": [
    {
     "data": {
      "text/plain": [
       "(array([1.0000e+01, 2.2000e+01, 6.3000e+01, 1.4800e+02, 8.4500e+02,\n",
       "        4.0382e+04, 7.0155e+04, 3.9757e+04, 2.2381e+04, 9.6900e+02]),\n",
       " array([-6.72057947, -5.73464453, -4.74870959, -3.76277466, -2.77683972,\n",
       "        -1.79090478, -0.80496984,  0.18096509,  1.16690003,  2.15283497,\n",
       "         3.13876991]),\n",
       " <BarContainer object of 10 artists>)"
      ]
     },
     "execution_count": 19,
     "metadata": {},
     "output_type": "execute_result"
    },
    {
     "data": {
      "image/png": "[encoded data removed]",
      "text/plain": [
       "<Figure size 640x480 with 1 Axes>"
      ]
     },
     "metadata": {},
     "output_type": "display_data"
    }
   ],
   "source": [
    "plt.hist(np.log10(mstar_raw[mstar_raw>0]))"
   ]
  },
  {
   "cell_type": "code",
   "execution_count": 20,
   "id": "09c4d265",
   "metadata": {},
   "outputs": [
    {
     "data": {
      "text/plain": [
       "(array([9.9000e+03, 1.0409e+04, 1.0226e+04, 9.6690e+03, 9.2690e+03,\n",
       "        8.5360e+03, 7.8110e+03, 7.2370e+03, 6.6180e+03, 6.0880e+03,\n",
       "        5.7440e+03, 5.3810e+03, 5.2180e+03, 4.9190e+03, 4.6060e+03,\n",
       "        4.4240e+03, 4.1100e+03, 3.8640e+03, 3.6990e+03, 3.6660e+03,\n",
       "        3.8610e+03, 3.8390e+03, 3.8420e+03, 3.0340e+03, 1.6870e+03,\n",
       "        9.5200e+02, 5.3900e+02, 3.9700e+02, 2.6400e+02, 1.8100e+02,\n",
       "        1.1600e+02, 6.4000e+01, 4.2000e+01, 2.3000e+01, 1.3000e+01,\n",
       "        4.0000e+00, 0.0000e+00, 0.0000e+00, 0.0000e+00]),\n",
       " array([ 8.        ,  8.11538462,  8.23076923,  8.34615385,  8.46153846,\n",
       "         8.57692308,  8.69230769,  8.80769231,  8.92307692,  9.03846154,\n",
       "         9.15384615,  9.26923077,  9.38461538,  9.5       ,  9.61538462,\n",
       "         9.73076923,  9.84615385,  9.96153846, 10.07692308, 10.19230769,\n",
       "        10.30769231, 10.42307692, 10.53846154, 10.65384615, 10.76923077,\n",
       "        10.88461538, 11.        , 11.11538462, 11.23076923, 11.34615385,\n",
       "        11.46153846, 11.57692308, 11.69230769, 11.80769231, 11.92307692,\n",
       "        12.03846154, 12.15384615, 12.26923077, 12.38461538, 12.5       ]),\n",
       " <BarContainer object of 39 artists>)"
      ]
     },
     "execution_count": 20,
     "metadata": {},
     "output_type": "execute_result"
    },
    {
     "data": {
      "image/png": "[encoded data removed]",
      "text/plain": [
       "<Figure size 640x480 with 1 Axes>"
      ]
     },
     "metadata": {},
     "output_type": "display_data"
    }
   ],
   "source": [
    "plt.hist(log_mstar, bins=edges)"
   ]
  },
  {
   "cell_type": "code",
   "execution_count": 21,
   "id": "0c3f13f2",
   "metadata": {},
   "outputs": [
    {
     "data": {
      "text/plain": [
       "Text(0, 0.5, '$\\\\Phi \\\\: [\\\\mathrm{dex}^{-1}\\\\, \\\\mathrm{Mpc}^{-3}]$')"
      ]
     },
     "execution_count": 21,
     "metadata": {},
     "output_type": "execute_result"
    },
    {
     "data": {
      "image/png": "[encoded data removed]",
      "text/plain": [
       "<Figure size 640x480 with 1 Axes>"
      ]
     },
     "metadata": {},
     "output_type": "display_data"
    }
   ],
   "source": [
    "n_plot = 1\n",
    "for i in range(n_plot):\n",
    "    plt.plot(bins_avg, smf_arr[i], lw=0.2, color='navy')\n",
    "\n",
    "smf_mean = np.mean(smf_arr, axis=0)\n",
    "smf_std = np.std(smf_arr, axis=0)\n",
    "plt.plot(bins_avg, smf_mean, color='magenta')\n",
    "plt.fill_between(bins_avg, \n",
    "                 (smf_mean-smf_std), \n",
    "                 (smf_mean+smf_std),\n",
    "                 color='magenta', alpha=0.3, lw=2,\n",
    "                 label='pSMF all')\n",
    "    \n",
    "plt.yscale('log')\n",
    "plt.xlabel(r'$\\log(M_\\star\\,/\\,M_\\odot)$')\n",
    "plt.ylabel(r'$\\Phi \\: [\\mathrm{dex}^{-1}\\, \\mathrm{Mpc}^{-3}]$')"
   ]
  },
  {
   "cell_type": "markdown",
   "id": "e341f479",
   "metadata": {},
   "source": [
    "## Set up bacco P(k) code"
   ]
  },
  {
   "cell_type": "code",
   "execution_count": 22,
   "id": "393cc5d8",
   "metadata": {},
   "outputs": [],
   "source": [
    "args_power = {'ngrid':ngrid,\n",
    "                  'box':BoxSize,\n",
    "                  'cosmology':cosmo_Quijote,\n",
    "                  'interlacing':True,\n",
    "                  'kmin':0.1,\n",
    "                  'kmax':1.0,\n",
    "                  'nbins':30,\n",
    "                  'correct_grid':True,\n",
    "                  'log_binning':False,\n",
    "                  'deposit_method':'cic',\n",
    "                  'compute_correlation':False,\n",
    "                  'zspace':False,\n",
    "                  'normalise_grid': True,\n",
    "                  'compute_power2d':False}"
   ]
  },
  {
   "cell_type": "code",
   "execution_count": 23,
   "id": "6b99bbb7",
   "metadata": {},
   "outputs": [],
   "source": [
    "import logging\n",
    "logger = logging.getLogger(\"bacco.power\")\n",
    "# only log really bad events\n",
    "logger.setLevel(logging.ERROR)"
   ]
  },
  {
   "cell_type": "code",
   "execution_count": 24,
   "id": "d9bf98ee",
   "metadata": {},
   "outputs": [
    {
     "name": "stderr",
     "output_type": "stream",
     "text": [
      "2023-12-26 01:20:44,450 bacco.statistics : Computing the power spectrum with ngrid=256 and interlacing=True\n",
      "2023-12-26 01:20:45,084 bacco.cosmo :    computed CAMB power spectrum at z=0.00 in 0.235 secs\n",
      "2023-12-26 01:20:45,090 bacco.cosmo :    created Pk(z=0) tab from k 7.450454722857103e-05 to 100000.0 h/Mpc\n",
      "2023-12-26 01:20:45,165 bacco.cosmo :    computed halofit at z=0.00 for 'cosmo_BOSS' in 0.002 secs\n",
      "2023-12-26 01:20:45,166 bacco.statistics :  setting the grid 256 True\n",
      "2023-12-26 01:20:45,167 bacco.statistics : Computing cic mesh with ngrid=256 and interlacing=True\n",
      "2023-12-26 01:20:45,169 bacco.statistics : starting deposit 1\n",
      "2023-12-26 01:20:45,275 bacco.statistics :  mesh done in 0.108 s\n",
      "2023-12-26 01:20:45,277 bacco.statistics :  Starting the power spectrum calculation\n",
      "2023-12-26 01:20:45,513 bacco.statistics :  done compute.power\n",
      "2023-12-26 01:20:45,515 bacco.statistics :  power done in 1.06 s\n"
     ]
    }
   ],
   "source": [
    "pks = []\n",
    "for fn_dat in fns_dat[:10]:\n",
    "    with h5py.File(fn_dat, 'r') as f:\n",
    "        x_arr, y_arr, z_arr = f['x_position'], f['y_position'], f['z_position']\n",
    "        pos_arr = np.array([x_arr, y_arr, z_arr]).T\n",
    "        pk = bacco.statistics.compute_powerspectrum(pos=pos_arr, **args_power)\n",
    "        pks.append(pk)"
   ]
  },
  {
   "cell_type": "code",
   "execution_count": 25,
   "id": "39103df5",
   "metadata": {},
   "outputs": [
    {
     "data": {
      "text/plain": [
       "Text(0, 0.5, '$P(k)$')"
      ]
     },
     "execution_count": 25,
     "metadata": {},
     "output_type": "execute_result"
    },
    {
     "data": {
      "image/png": "[encoded data removed]",
      "text/plain": [
       "<Figure size 640x480 with 1 Axes>"
      ]
     },
     "metadata": {},
     "output_type": "display_data"
    }
   ],
   "source": [
    "for i, fn_dat in enumerate(fns_dat[:10]):\n",
    "    plt.plot(pks[i]['k'], pks[i]['pk'])\n",
    "    \n",
    "plt.xscale('log')\n",
    "plt.yscale('log')\n",
    "plt.xlabel(r'$k$')\n",
    "plt.ylabel(r'$P(k)$')"
   ]
  },
  {
   "cell_type": "code",
   "execution_count": null,
   "id": "ef4956b6",
   "metadata": {},
   "outputs": [],
   "source": []
  }
 ],
 "metadata": {
  "kernelspec": {
   "display_name": "Python [conda env:.conda-baccoenv] *",
   "language": "python",
   "name": "conda-env-.conda-baccoenv-py"
  },
  "language_info": {
   "codemirror_mode": {
    "name": "ipython",
    "version": 3
   },
   "file_extension": ".py",
   "mimetype": "text/x-python",
   "name": "python",
   "nbconvert_exporter": "python",
   "pygments_lexer": "ipython3",
   "version": "3.11.5"
  }
 },
 "nbformat": 4,
 "nbformat_minor": 5
}
